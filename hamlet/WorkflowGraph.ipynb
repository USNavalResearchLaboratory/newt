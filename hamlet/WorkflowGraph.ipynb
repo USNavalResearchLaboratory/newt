{
 "cells": [
  {
   "cell_type": "markdown",
   "metadata": {},
   "source": [
    "# Jupyter Notebook to Generate workflows from JSON NEWT Graphs"
   ]
  },
  {
   "cell_type": "code",
   "execution_count": 5,
   "metadata": {
    "collapsed": false
   },
   "outputs": [],
   "source": [
    "import networkx as nx\n",
    "import matplotlib.pyplot as plt\n",
    "import json\n",
    "\n",
    "infile = open('hamlet_stanzas.json', 'r')\n",
    "play = json.load(infile)\n",
    "\n",
    "G = nx.MultiGraph()\n",
    "\n",
    "def get_act_number(act_string):\n",
    "    act_string = act_string[4:]\n",
    "    parts = act_string.split(\".\")\n",
    "    return str(parts[0])\n",
    "\n",
    "def get_scene_number(scene_string):\n",
    "    act_string = scene_string[6:]\n",
    "    parts = act_string.split(\".\")\n",
    "    return str(parts[0])\n",
    "\n",
    "def get_actor_name(name):\n",
    "    if name == \"Player_King\":\n",
    "        return \"King\"\n",
    "    if name == \"Player_Queen\":\n",
    "        return \"Queen\"\n",
    "    return name\n",
    "\n",
    "scenes = {}\n",
    "\n",
    "for act_name, act in sorted(play.iteritems()):\n",
    "    this_act = get_act_number(act_name)\n",
    "    for scene_name, scene in sorted(act.iteritems()):\n",
    "        this_scene = get_scene_number(scene_name)\n",
    "        infile = open('./data/hamlet_workflow' + this_act + '_' + this_scene + '.json', 'r')\n",
    "        workflow = json.load(infile)\n",
    "        edges =  workflow['edges']\n",
    "        nodes =  workflow['nodes']\n",
    "\n",
    "        for node in nodes:\n",
    "            G.add_node(get_actor_name(node['unique_name']))\n",
    "\n",
    "        for edge in edges:\n",
    "            G.add_edge(get_actor_name(edge['out_node']), get_actor_name(edge['in_node']))\n",
    "\n",
    "\n",
    "plt.figure(3,figsize=(10,10)) \n",
    "pos=nx.spring_layout(G)\n",
    "nx.draw(G, pos, with_labels=True, font_size=10, font_weight='bold', node_color='r',\n",
    "                       node_size=4000, alpha=0.7, font_color='w')\n",
    "\n",
    "plt.savefig(\"workflow_all.png\", format=\"PNG\")\n",
    "nx.write_gexf(G,\"workflow.gefx\")\n",
    "plt.show()\n"
   ]
  },
  {
   "cell_type": "markdown",
   "metadata": {},
   "source": [
    "## Export as a DOT file"
   ]
  },
  {
   "cell_type": "code",
   "execution_count": null,
   "metadata": {
    "collapsed": true
   },
   "outputs": [],
   "source": [
    "from networkx.drawing.nx_pydot import write_dot\n",
    "nx.draw_graphviz(G)\n",
    "write_dot(G,'file.dot')"
   ]
  },
  {
   "cell_type": "code",
   "execution_count": null,
   "metadata": {
    "collapsed": true
   },
   "outputs": [],
   "source": []
  }
 ],
 "metadata": {
  "kernelspec": {
   "display_name": "Python 2",
   "language": "python",
   "name": "python2"
  },
  "language_info": {
   "codemirror_mode": {
    "name": "ipython",
    "version": 2
   },
   "file_extension": ".py",
   "mimetype": "text/x-python",
   "name": "python",
   "nbconvert_exporter": "python",
   "pygments_lexer": "ipython2",
   "version": "2.7.10"
  }
 },
 "nbformat": 4,
 "nbformat_minor": 0
}
